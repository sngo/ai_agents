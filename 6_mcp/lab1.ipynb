{
 "cells": [
  {
   "cell_type": "markdown",
   "id": "bf161ba2",
   "metadata": {},
   "source": [
    "# MCP in OpenAI Agents SDK\n",
    "1. Create a Client\n",
    "2. Have it spawn a server\n",
    "3. Collect the tools that server can use"
   ]
  },
  {
   "cell_type": "code",
   "execution_count": null,
   "id": "56f90281",
   "metadata": {},
   "outputs": [],
   "source": [
    "from dotenv import load_dotenv\n",
    "from agents import Agent, Runner, trace\n",
    "from agents.mcp import MCPServerStdio\n",
    "import os\n",
    "\n",
    "os.environ[\"PATH\"] = \"/home/sngo/.nvm/versions/node/v22.20.0/bin:/home/sngo/.local/bin:\" + os.environ[\"PATH\"]\n"
   ]
  },
  {
   "cell_type": "code",
   "execution_count": null,
   "id": "92ff11bf",
   "metadata": {},
   "outputs": [],
   "source": [
    "import shutil\n",
    "shutil.which(\"uv\")\n",
    "print(os.environ[\"PATH\"])"
   ]
  },
  {
   "cell_type": "code",
   "execution_count": null,
   "id": "74153f07",
   "metadata": {},
   "outputs": [],
   "source": [
    "load_dotenv(override=True)"
   ]
  },
  {
   "cell_type": "code",
   "execution_count": null,
   "id": "5bf16a3a",
   "metadata": {},
   "outputs": [],
   "source": [
    "# run uvx command\n",
    "fetch_params = {\"command\": \"uvx\", \"args\": [\"mcp-server-fetch\"]}\n",
    "\n",
    "async with MCPServerStdio(params=fetch_params, client_session_timeout_seconds=60) as server:\n",
    "    fetch_tools = await server.list_tools()\n",
    "\n",
    "fetch_tools"
   ]
  },
  {
   "cell_type": "markdown",
   "id": "0bb4d9be",
   "metadata": {},
   "source": [
    "## 2 more MCP Servers - Javascript based with node"
   ]
  },
  {
   "cell_type": "code",
   "execution_count": null,
   "id": "0326b423",
   "metadata": {},
   "outputs": [],
   "source": [
    "# do this to make the cell can run npx command\n",
    "#os.environ[\"PATH\"] = \"/home/sngo/.nvm/versions/node/v22.20.0/bin:\" + os.environ[\"PATH\"]"
   ]
  },
  {
   "cell_type": "code",
   "execution_count": null,
   "id": "3fcb4a71",
   "metadata": {},
   "outputs": [],
   "source": [
    "playwright_params = {\"command\": \"npx\",\"args\": [ \"@playwright/mcp@latest\"]}\n",
    "\n",
    "async with MCPServerStdio(params=playwright_params, client_session_timeout_seconds=60) as server:\n",
    "    playwright_tools = await server.list_tools()\n",
    "\n",
    "playwright_tools"
   ]
  },
  {
   "cell_type": "code",
   "execution_count": null,
   "id": "79f54d52",
   "metadata": {},
   "outputs": [],
   "source": [
    "sandbox_path = os.path.abspath(os.path.join(os.getcwd(), \"sandbox\"))\n",
    "files_params = {\"command\": \"npx\", \"args\": [\"-y\", \"@modelcontextprotocol/server-filesystem\", sandbox_path]}\n",
    "\n",
    "async with MCPServerStdio(params=files_params,client_session_timeout_seconds=60) as server:\n",
    "    file_tools = await server.list_tools()\n",
    "\n",
    "file_tools"
   ]
  },
  {
   "cell_type": "markdown",
   "id": "1e62bc55",
   "metadata": {},
   "source": [
    "### Bring on the Agent with Tools!"
   ]
  },
  {
   "cell_type": "code",
   "execution_count": null,
   "id": "784fd83f",
   "metadata": {},
   "outputs": [],
   "source": [
    "instructions = \"\"\"\n",
    "You browse the internet to accomplish your instructions.\n",
    "You are highly capable at browsing the internet independently to accomplish your task, \n",
    "including accepting all cookies and clicking 'not now' as\n",
    "appropriate to get to the content you need. If one website isn't fruitful, try another. \n",
    "Be persistent until you have solved your assignment,\n",
    "trying different options and sites as needed.\n",
    "\"\"\"\n",
    "\n",
    "# do both in same block to ensure both contexts are active at the same time\n",
    "async with ( \n",
    "    MCPServerStdio(params=files_params, client_session_timeout_seconds=60) as mcp_server_files,\n",
    "    MCPServerStdio(params=playwright_params, client_session_timeout_seconds=60) as mcp_server_browser,\n",
    "):\n",
    "        agent = Agent(\n",
    "            name=\"investigator\", \n",
    "            instructions=instructions, \n",
    "            model=\"gpt-4.1-mini\",\n",
    "            mcp_servers=[mcp_server_files, mcp_server_browser]\n",
    "            )\n",
    "        with trace(\"investigate\"):\n",
    "            result = await Runner.run(agent, \"Find a great recipe for Banoffee Pie, then summarize it in markdown to banoffee.md\")\n",
    "            print(result.final_output)"
   ]
  },
  {
   "cell_type": "markdown",
   "id": "78852505",
   "metadata": {},
   "source": [
    "As always check trace: https://platform.openai.com/traces"
   ]
  },
  {
   "cell_type": "code",
   "execution_count": null,
   "id": "b3ec0e06",
   "metadata": {},
   "outputs": [],
   "source": []
  }
 ],
 "metadata": {
  "kernelspec": {
   "display_name": ".venv",
   "language": "python",
   "name": "python3"
  },
  "language_info": {
   "codemirror_mode": {
    "name": "ipython",
    "version": 3
   },
   "file_extension": ".py",
   "mimetype": "text/x-python",
   "name": "python",
   "nbconvert_exporter": "python",
   "pygments_lexer": "ipython3",
   "version": "3.12.11"
  }
 },
 "nbformat": 4,
 "nbformat_minor": 5
}

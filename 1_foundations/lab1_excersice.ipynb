{
 "cells": [
  {
   "cell_type": "code",
   "execution_count": 1,
   "metadata": {},
   "outputs": [],
   "source": [
    "from dotenv import load_dotenv"
   ]
  },
  {
   "cell_type": "code",
   "execution_count": 12,
   "metadata": {},
   "outputs": [
    {
     "data": {
      "text/plain": [
       "True"
      ]
     },
     "execution_count": 12,
     "metadata": {},
     "output_type": "execute_result"
    }
   ],
   "source": [
    "load_dotenv(override=True)"
   ]
  },
  {
   "cell_type": "code",
   "execution_count": 13,
   "metadata": {},
   "outputs": [
    {
     "name": "stdout",
     "output_type": "stream",
     "text": [
      "OPENAI_API_KEY is set: sk-proj-\n"
     ]
    }
   ],
   "source": [
    "import os\n",
    "openai_api_key = os.getenv(\"OPENAI_API_KEY\")\n",
    "if not openai_api_key:\n",
    "    raise ValueError(\"OPENAI_API_KEY is not set\")\n",
    "else:\n",
    "    print(f\"OPENAI_API_KEY is set: {openai_api_key[:8]}\")\n"
   ]
  },
  {
   "cell_type": "code",
   "execution_count": 14,
   "metadata": {},
   "outputs": [],
   "source": [
    "from openai import OpenAI\n",
    "openai = OpenAI()\n"
   ]
  },
  {
   "cell_type": "code",
   "execution_count": 15,
   "metadata": {},
   "outputs": [],
   "source": [
    "messages = [{\"role\": \"user\", \"content\": \"What is the capital of France?\"}]"
   ]
  },
  {
   "cell_type": "code",
   "execution_count": 16,
   "metadata": {},
   "outputs": [
    {
     "name": "stdout",
     "output_type": "stream",
     "text": [
      "The capital of France is Paris.\n"
     ]
    }
   ],
   "source": [
    "response = openai.chat.completions.create(\n",
    "    model=\"gpt-4o-mini\",\n",
    "    messages=messages\n",
    ")\n",
    "print(response.choices[0].message.content)"
   ]
  },
  {
   "cell_type": "code",
   "execution_count": 21,
   "metadata": {},
   "outputs": [
    {
     "name": "stdout",
     "output_type": "stream",
     "text": [
      "Certainly! Here are three business areas that could be worth exploring for Agentic AI opportunities:\n",
      "\n",
      "1. **Healthcare Management**: Agentic AI can play a pivotal role in streamlining operations, enhancing patient care, and optimizing resource allocation in healthcare settings. Opportunities include AI-driven diagnostic tools, personalized treatment plans, virtual health assistants for patient management, and predictive analytics to anticipate patient needs and improve outcomes. By facilitating communication between patients and healthcare providers, Agentic AI can also enhance patient engagement and adherence to treatment plans.\n",
      "\n",
      "2. **Supply Chain and Logistics**: Agentic AI can significantly improve supply chain efficiency through enhanced forecasting, real-time tracking, and autonomous decision-making. Applications could include optimizing inventory management, predicting demand spikes, and automating procurement processes. Additionally, Agentic AI can assist in route optimization and fleet management, leading to cost reductions and improved delivery times. Implementing AI-driven solutions in this area can increase transparency and agility in supply chains.\n",
      "\n",
      "3. **Customer Experience and Personalization**: Businesses can leverage Agentic AI to create tailored customer experiences across various platforms. AI can analyze customer behavior and preferences to offer personalized recommendations, automate customer support via chatbots, and enhance browsing experiences on e-commerce sites. By providing insightful data on customer interactions and feedback, Agentic AI can help businesses make informed decisions that boost customer satisfaction and loyalty.\n",
      "\n",
      "Exploring these areas could lead to innovative solutions that harness the capabilities of Agentic AI to create value and improve efficiency.\n"
     ]
    }
   ],
   "source": [
    "messages = [{\"role\": \"user\", \"content\": \"Please give me 3 business area that might be worth exploring for an Agentic AI opportunity.\"}]\n",
    "response = openai.chat.completions.create(\n",
    "    model=\"gpt-4o-mini\",\n",
    "    messages=messages\n",
    ")\n",
    "business_areas = response.choices[0].message.content\n",
    "print(response.choices[0].message.content)"
   ]
  },
  {
   "cell_type": "code",
   "execution_count": 18,
   "metadata": {},
   "outputs": [],
   "source": [
    "from IPython.display import Markdown, display"
   ]
  },
  {
   "cell_type": "code",
   "execution_count": 22,
   "metadata": {},
   "outputs": [
    {
     "data": {
      "text/markdown": [
       "In the **supply chain and logistics** sector, one significant pain point is **demand forecasting inaccuracies**. \n",
       "\n",
       "### Pain Point: Demand Forecasting Inaccuracies\n",
       "\n",
       "**Overview**: Companies often struggle to accurately predict demand for their products due to various factors such as seasonality, market trends, economic fluctuations, and unforeseen events (e.g., natural disasters, pandemics). Inaccurate forecasts can lead to several challenges:\n",
       "\n",
       "1. **Overstocking**: If demand is overestimated, companies may produce or order too much inventory, leading to excessive holding costs, waste (especially for perishable goods), and higher storage requirements.\n",
       "\n",
       "2. **Stockouts**: When demand is underestimated, it can result in stockouts, causing lost sales, unhappy customers, and potential damage to the brand's reputation. This is particularly critical in industries like retail and food services, where customer expectations for product availability are high.\n",
       "\n",
       "3. **Waste and Inefficiency**: Demand forecasting inaccuracies can also lead to inefficient logistics operations. Companies may need to rush shipments to meet unexpected demand, resulting in higher transportation costs and disruptions in the supply chain.\n",
       "\n",
       "### Agentic AI Solution\n",
       "\n",
       "An Agentic AI solution could leverage advanced machine learning algorithms and real-time data analytics to improve demand forecasting accuracy. Here’s how it might work:\n",
       "\n",
       "1. **Data Integration**: The AI system can aggregate data from various sources, such as historical sales data, weather patterns, market trends, social media sentiment, and economic indicators, to build a comprehensive demand profile.\n",
       "\n",
       "2. **Predictive Analytics**: By utilizing machine learning models, the AI can identify patterns and correlations that traditional forecasting methods might miss. It could continuously learn from new data, adapting its predictions based on the current market environment.\n",
       "\n",
       "3. **Real-Time Adjustments**: The Agentic AI could provide real-time updates and adjustments to forecasts as new data emerges, allowing supply chain managers to make informed decisions quickly. This adaptability can be crucial in responding to sudden changes in demand.\n",
       "\n",
       "4. **Autonomous Decision-Making**: Beyond forecasting, the AI could autonomously recommend inventory levels, production schedules, and order quantities, reducing reliance on human judgment and minimizing the risk of errors.\n",
       "\n",
       "By addressing the demand forecasting inaccuracies in supply chain management, an Agentic AI solution can enhance operational efficiency, reduce costs, and improve customer satisfaction."
      ],
      "text/plain": [
       "<IPython.core.display.Markdown object>"
      ]
     },
     "metadata": {},
     "output_type": "display_data"
    }
   ],
   "source": [
    "messages = [\n",
    "    {\"role\": \"user\", \"content\": \"Please give me 3 business area that might be worth exploring for an Agentic AI opportunity.\"},\n",
    "    {\"role\": \"assistant\", \"content\": business_areas},  # Include your business_areas here\n",
    "    {\"role\": \"user\", \"content\": \"Let take 2.  please present a pain-point in that industry - something challenging that might be ripe for an Agentic solution.\"}\n",
    "]\n",
    "response = openai.chat.completions.create(\n",
    "    model=\"gpt-4o-mini\",\n",
    "    messages=messages\n",
    ")\n",
    "business_pain_point = response.choices[0].message.content\n",
    "display(Markdown(business_pain_point))"
   ]
  },
  {
   "cell_type": "code",
   "execution_count": null,
   "metadata": {},
   "outputs": [
    {
     "data": {
      "text/markdown": [
       "Certainly! Let's focus on the **Supply Chain and Logistics** industry and propose an Agentic AI solution that addresses a specific pain point: **Demand Forecasting and Inventory Management**.\n",
       "\n",
       "### Pain Point:\n",
       "Inaccurate demand forecasting leads to either overstock or stockouts, resulting in increased costs, waste, and lost sales. Traditional forecasting methods often struggle to account for fluctuating market trends, seasonal variations, and unexpected disruptions (e.g., natural disasters, pandemics) that can impact supply and demand. Companies often rely on historical data or simplistic models that fail to capture the complexities of modern supply chains.\n",
       "\n",
       "### Proposed Agentic AI Solution: **Intelligent Demand Forecasting and Inventory Optimization (IDFIO)**\n",
       "\n",
       "#### Key Features:\n",
       "\n",
       "1. **Real-Time Data Integration**: The solution integrates data from multiple sources, including sales history, market trends, social media sentiment, economic indicators, and external factors such as weather patterns. This comprehensive data analysis enhances the accuracy of demand forecasts.\n",
       "\n",
       "2. **Machine Learning Algorithms**: Utilizing advanced machine learning techniques, the AI analyzes historical sales patterns and external data to identify trends and predict future demand. The model continuously learns from new data, adapting to changes in consumer behavior and market conditions.\n",
       "\n",
       "3. **Dynamic Inventory Optimization**: Based on demand forecasts, the system automatically adjusts inventory levels for each product at various distribution centers. This ensures that the right amount of stock is available when and where it's needed, minimizing carrying costs and reducing waste.\n",
       "\n",
       "4. **Autonomous Decision-Making**: The Agentic AI can autonomously make procurement decisions, like when to reorder stock or adjust supplier contracts, based on real-time insights. This helps in mitigating risks related to stockouts and ensuring timely fulfillment of customer orders.\n",
       "\n",
       "5. **Scenario Analysis and Simulation**: The system can run simulations to evaluate the impact of different scenarios, allowing supply chain managers to understand potential outcomes based on various market conditions. This equips them with insights to make informed strategic decisions.\n",
       "\n",
       "6. **User-Friendly Dashboard**: A centralized dashboard provides real-time monitoring and insights into inventory levels, demand forecasts, and supply chain performance metrics. This enables stakeholders to visualize data trends and quickly identify areas that require attention.\n",
       "\n",
       "### Benefits:\n",
       "- **Improved Forecast Accuracy**: More accurate demand predictions lead to better inventory management, reducing waste and stockouts.\n",
       "- **Cost Savings**: Optimizing inventory levels minimizes holding costs and lost sales, contributing to better profit margins.\n",
       "- **Increased Agility**: The system's responsiveness to real-time data allows companies to adapt quickly to changing market conditions.\n",
       "- **Enhanced Collaboration**: By providing stakeholders with shared insights, the solution fosters collaboration among suppliers, distributors, and retailers.\n",
       "\n",
       "### Implementation Considerations:\n",
       "- **Data Security and Privacy**: Ensure compliance with data protection regulations while integrating various data sources.\n",
       "- **Change Management**: Provide training and support to staff for effective adoption of the new system.\n",
       "- **Continuous Improvement**: Establish feedback loops to continually refine and enhance the AI model based on performance metrics.\n",
       "\n",
       "### Conclusion:\n",
       "The Intelligent Demand Forecasting and Inventory Optimization (IDFIO) solution leverages the capabilities of Agentic AI to transform demand forecasting and inventory management in supply chains. By addressing the key pain points in the industry, this solution can drive efficiency, reduce costs, and enhance overall supply chain performance."
      ],
      "text/plain": [
       "<IPython.core.display.Markdown object>"
      ]
     },
     "metadata": {},
     "output_type": "display_data"
    },
    {
     "ename": "",
     "evalue": "",
     "output_type": "error",
     "traceback": [
      "\u001b[1;31mThe Kernel crashed while executing code in the current cell or a previous cell. \n",
      "\u001b[1;31mPlease review the code in the cell(s) to identify a possible cause of the failure. \n",
      "\u001b[1;31mClick <a href='https://aka.ms/vscodeJupyterKernelCrash'>here</a> for more info. \n",
      "\u001b[1;31mView Jupyter <a href='command:jupyter.viewOutput'>log</a> for further details."
     ]
    }
   ],
   "source": [
    "messages.append({\"role\": \"assistant\", \"content\": business_areas})\n",
    "messages.append({\"role\": \"user\", \"content\": \"ok, can you please propose the Agentic AI solution?\"})\n",
    "response = openai.chat.completions.create(\n",
    "    model=\"gpt-4o-mini\",\n",
    "    messages=messages\n",
    ")\n",
    "business_solution = response.choices[0].message.content\n",
    "display(Markdown(business_solution))"
   ]
  },
  {
   "cell_type": "code",
   "execution_count": null,
   "metadata": {},
   "outputs": [],
   "source": []
  }
 ],
 "metadata": {
  "kernelspec": {
   "display_name": ".venv",
   "language": "python",
   "name": "python3"
  },
  "language_info": {
   "codemirror_mode": {
    "name": "ipython",
    "version": 3
   },
   "file_extension": ".py",
   "mimetype": "text/x-python",
   "name": "python",
   "nbconvert_exporter": "python",
   "pygments_lexer": "ipython3",
   "version": "3.12.11"
  }
 },
 "nbformat": 4,
 "nbformat_minor": 2
}

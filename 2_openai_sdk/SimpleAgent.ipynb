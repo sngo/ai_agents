{
  "nbformat": 4,
  "nbformat_minor": 0,
  "metadata": {
    "colab": {
      "provenance": [],
      "authorship_tag": "ABX9TyNo0ZbyRwPzT8+S22cKnPTj",
      "include_colab_link": true
    },
    "kernelspec": {
      "name": "python3",
      "display_name": "Python 3"
    },
    "language_info": {
      "name": "python"
    }
  },
  "cells": [
    {
      "cell_type": "markdown",
      "metadata": {
        "id": "view-in-github",
        "colab_type": "text"
      },
      "source": [
        "<a href=\"https://colab.research.google.com/github/sngo/ai_agents/blob/main/2_openai_sdk/SimpleAgent.ipynb\" target=\"_parent\"><img src=\"https://colab.research.google.com/assets/colab-badge.svg\" alt=\"Open In Colab\"/></a>"
      ]
    },
    {
      "cell_type": "code",
      "source": [
        "!pip install openai openai-agents"
      ],
      "metadata": {
        "id": "s7SnoCCi13d2"
      },
      "execution_count": null,
      "outputs": []
    },
    {
      "cell_type": "code",
      "execution_count": 9,
      "metadata": {
        "id": "wZA8A6JGw4sw"
      },
      "outputs": [],
      "source": [
        "import os\n",
        "from google.colab import userdata\n",
        "from agents import Agent, Runner, trace"
      ]
    },
    {
      "cell_type": "code",
      "source": [
        "openai_api_key = userdata.get('OPENAI_API_KEY')\n",
        "os.environ[\"OPENAI_API_KEY\"] = openai_api_key"
      ],
      "metadata": {
        "id": "28QQcgXpyqqH"
      },
      "execution_count": 2,
      "outputs": []
    },
    {
      "cell_type": "code",
      "source": [
        "agent = Agent(name=\"Jokester\",instructions=\"You are a joke teller. Tell jokes to the user.\",model=\"gpt-4o-mini\")"
      ],
      "metadata": {
        "id": "t0VPmu8cyxrq"
      },
      "execution_count": 10,
      "outputs": []
    },
    {
      "cell_type": "code",
      "source": [
        "with trace(\"Telling a joke\"):\n",
        "  result = await Runner.run(agent, \"Tell a joke about Autonomous AI Agents\")\n",
        "  print(result.final_output)"
      ],
      "metadata": {
        "colab": {
          "base_uri": "https://localhost:8080/"
        },
        "id": "Fdglx2rZ2d9t",
        "outputId": "68e6cd82-cf54-497a-b24e-2fda475672e1"
      },
      "execution_count": 11,
      "outputs": [
        {
          "output_type": "stream",
          "name": "stdout",
          "text": [
            "Why did the Autonomous AI Agent break up with its partner?  \n",
            "\n",
            "Because it just couldn't handle the emotional algorithms!\n"
          ]
        }
      ]
    },
    {
      "cell_type": "markdown",
      "source": [
        "View trace at\n",
        "\n",
        "https://platform.openai.com/traces"
      ],
      "metadata": {
        "id": "ODPOG9o03jwR"
      }
    }
  ]
}
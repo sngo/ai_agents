{
 "cells": [
  {
   "cell_type": "code",
   "execution_count": 75,
   "metadata": {},
   "outputs": [],
   "source": [
    "import typing\n",
    "from agents import Agent, trace, Runner, function_tool, WebSearchTool, gen_trace_id, ItemHelpers\n",
    "from agents.model_settings import ModelSettings\n",
    "from pydantic import BaseModel, Field\n",
    "from dotenv import load_dotenv\n",
    "import asyncio\n",
    "import requests\n",
    "import os\n",
    "from typing import List, Dict, Any\n",
    "from IPython.display import display, Markdown\n",
    "from openai.types.responses import ResponseTextDeltaEvent"
   ]
  },
  {
   "cell_type": "markdown",
   "metadata": {},
   "source": [
    "## OpenAI Hosted Tools\n",
    "\n",
    "OpenAI Agents SDK includes the following hosted tools:\n",
    "\n",
    "The `WebSearchTool` lets an agent search the web.  \n",
    "The `FileSearchTool` allows retrieving information from your OpenAI Vector Stores.  \n",
    "The `ComputerTool` allows automating computer use tasks like taking screenshots and clicking.\n",
    "\n",
    "### Important note - API charge of WebSearchTool\n",
    "\n",
    "This is costing me 2.5 cents per call for OpenAI WebSearchTool. That can add up to $2-$3 for the next 2 labs. We'll use low cost Search tools with other platforms, so feel free to skip running this if the cost is a concern.\n",
    "\n",
    "Costs are here: https://platform.openai.com/docs/pricing#web-search"
   ]
  },
  {
   "cell_type": "code",
   "execution_count": 2,
   "metadata": {},
   "outputs": [],
   "source": [
    "model = \"gpt-4o-mini\""
   ]
  },
  {
   "cell_type": "code",
   "execution_count": null,
   "metadata": {},
   "outputs": [],
   "source": [
    "SEARCH_INSTRUCTIONS = \"You are a research assistant. Given a search term, you search the web for that term and \\\n",
    "produce a concise summary of the results. The summary must 2-3 paragraphs and less than 300 \\\n",
    "words. Capture the main points. Write succintly, no need to have complete sentences or good \\\n",
    "grammar. This will be consumed by someone synthesizing a report, so it's vital you capture the \\\n",
    "essence and ignore any fluff. Do not include any additional commentary other than the summary itself.\"\n",
    "\n",
    "search_agent = Agent(\n",
    "    name=\"Search Agent\",\n",
    "    instructions=SEARCH_INSTRUCTIONS,\n",
    "    tools=[WebSearchTool(search_context_size=\"low\")],\n",
    "    model=model,\n",
    "    model_settings=ModelSettings(tool_choice=\"required\")\n",
    ")"
   ]
  },
  {
   "cell_type": "code",
   "execution_count": null,
   "metadata": {},
   "outputs": [],
   "source": [
    "#Test search agent\n",
    "message = \"Latest AI Agent frameworks in July 2025\"\n",
    "\n",
    "with trace(search_agent):\n",
    "    result = await Runner.run(search_agent, message)\n",
    "    \n",
    "\n",
    "display(Markdown(result.final_output))"
   ]
  },
  {
   "cell_type": "code",
   "execution_count": null,
   "metadata": {},
   "outputs": [],
   "source": [
    "HOW_MANY_SEARCHES = 3\n",
    "PLANNER_INSTRUCTIONS = f\"You are a helpful research assistant.  Given a query, please come up with a set web searches terms \\\n",
    "    to perform to best answer the query.  Output  {HOW_MANY_SEARCHES} terms to search for.\"\n",
    "\n",
    "# Use Pydantic to define the Schema of our response - this is known as \"Structured Outputs\"\n",
    "\n",
    "class WebSearchItem(BaseModel):\n",
    "    reason: str = Field(description=\"Your reasoning for why this search is important to the query.\")\n",
    "\n",
    "    query: str = Field(description=\"The search term to use for the web search.\")\n",
    "\n",
    "\n",
    "class WebSearchPlan(BaseModel):\n",
    "    searches: list[WebSearchItem] = Field(description=\"A list of web searches to perform to best answer the query.\")\n",
    "\n",
    "\n",
    "planner_agent = Agent(\n",
    "    name=\"PlannerAgent\",\n",
    "    instructions=PLANNER_INSTRUCTIONS,\n",
    "    model=model,\n",
    "    output_type=WebSearchPlan,\n",
    ")"
   ]
  },
  {
   "cell_type": "code",
   "execution_count": 32,
   "metadata": {},
   "outputs": [
    {
     "name": "stdout",
     "output_type": "stream",
     "text": [
      "searches=[WebSearchItem(reason='To understand the current performance and projections for Apple stock in 2025.', query='Apple stock price analysis July 2025'), WebSearchItem(reason=\"To gather expert opinions and market predictions regarding Apple's future performance.\", query='Apple stock investment outlook 2025'), WebSearchItem(reason=\"To review recent news and developments that could impact Apple's stock price.\", query='Apple company news July 2025')]\n",
      "Will perform 3 searches\n"
     ]
    }
   ],
   "source": [
    "message = \"Invest in Apple stock now 07/31/2025\"\n",
    "\n",
    "with trace(\"Search\"):\n",
    "    result = await Runner.run(planner_agent, message)\n",
    "    print(result.final_output)\n",
    "    print(f\"Will perform {len(result.final_output.searches)} searches\")\n"
   ]
  },
  {
   "cell_type": "code",
   "execution_count": 15,
   "metadata": {},
   "outputs": [],
   "source": [
    "@function_tool\n",
    "def send_email(subject: str, html_body: str) -> Dict[str, str]:\n",
    "    \"\"\" Send out an email with given subjecy and HTML body\"\"\"\n",
    "    return requests.post(\n",
    "  \t\t\"https://api.mailgun.net/v3/sandbox979b287399f848ed9122f9a12c836b17.mailgun.org/messages\",\n",
    "  \t\tauth=(\"api\", os.getenv('MAIL_GUN_API_KEY', 'MAIL_GUN_KEY')),\n",
    "  \t\tdata={\"from\": \"Mailgun Sandbox <postmaster@sandbox979b287399f848ed9122f9a12c836b17.mailgun.org>\",\n",
    "\t\t\t\"to\": \"Son M Ngo <sonmngo@gmail.com>\",\n",
    "  \t\t\t\"subject\": subject,\n",
    "  \t\t\t\"html\": html_body})"
   ]
  },
  {
   "cell_type": "code",
   "execution_count": 16,
   "metadata": {},
   "outputs": [
    {
     "data": {
      "text/plain": [
       "FunctionTool(name='send_email', description='Send out an email with given subjecy and HTML body', params_json_schema={'properties': {'subject': {'title': 'Subject', 'type': 'string'}, 'html_body': {'title': 'Html Body', 'type': 'string'}}, 'required': ['subject', 'html_body'], 'title': 'send_email_args', 'type': 'object', 'additionalProperties': False}, on_invoke_tool=<function function_tool.<locals>._create_function_tool.<locals>._on_invoke_tool at 0x000002C22B27B9C0>, strict_json_schema=True, is_enabled=True)"
      ]
     },
     "execution_count": 16,
     "metadata": {},
     "output_type": "execute_result"
    }
   ],
   "source": [
    "send_email"
   ]
  },
  {
   "cell_type": "code",
   "execution_count": null,
   "metadata": {},
   "outputs": [],
   "source": [
    "EMAIL_INSTRUCTIONS = \"\"\"You are able to send a nicely formatted HTML email based on a detailed report.\n",
    "You will be provided with a detailed report. You should use your tool to send one email, providing the \n",
    "report converted into clean, well presented HTML with an appropriate subject line.\"\"\"\n",
    "\n",
    "email_agent = Agent(\n",
    "    name=\"Email agent\",\n",
    "    instructions=EMAIL_INSTRUCTIONS,\n",
    "    tools=[send_email],\n",
    "    model=model,\n",
    ")\n"
   ]
  },
  {
   "cell_type": "code",
   "execution_count": null,
   "metadata": {},
   "outputs": [],
   "source": [
    "WRITER_INSTRUCTIONS = (\n",
    "    \"You are a senior researcher tasked with writing a cohesive report for a research query. \"\n",
    "    \"You will be provided with the original query, and some initial research done by a research assistant.\\n\"\n",
    "    \"You should first come up with an outline for the report that describes the structure and \"\n",
    "    \"flow of the report. Then, generate the report and return that as your final output.\\n\"\n",
    "    \"The final output should be in markdown format, and it should be lengthy and detailed. Aim \"\n",
    "    \"for 5-10 pages of content, at least 1000 words.\"\n",
    ")\n",
    "\n",
    "\n",
    "class ReportData(BaseModel):\n",
    "    short_summary: str = Field(description=\"A short 2-3 sentence summary of the findings.\")\n",
    "\n",
    "    markdown_report: str = Field(description=\"The final report\")\n",
    "\n",
    "    follow_up_questions: list[str] = Field(description=\"Suggested topics to research further\")\n",
    "\n",
    "    references: list[str] = Field(description=\"List of name and url of the references used in the report\")\n",
    "\n",
    "\n",
    "writer_agent = Agent(\n",
    "    name=\"WriterAgent\",\n",
    "    instructions=WRITER_INSTRUCTIONS,\n",
    "    model=model,\n",
    "    output_type=ReportData,\n",
    ")"
   ]
  },
  {
   "cell_type": "code",
   "execution_count": 19,
   "metadata": {},
   "outputs": [],
   "source": [
    "async def plan_searches(query: str):\n",
    "    \"\"\" Use the planner_agent to plan which searches to run for the query \"\"\"\n",
    "    print(\"Planning searches...\")\n",
    "    result = await Runner.run(planner_agent, f\"Query: {query}\")\n",
    "    print(f\"Will perform {len(result.final_output.searches)} searches\")\n",
    "    return result.final_output\n",
    "\n",
    "async def perform_searches(search_plan: WebSearchPlan):\n",
    "    \"\"\" Call search() for each item in the search plan \"\"\"\n",
    "    print(\"Searching...\")\n",
    "    tasks = [asyncio.create_task(search(item)) for item in search_plan.searches]\n",
    "    results = await asyncio.gather(*tasks)\n",
    "    print(\"Finished searching\")\n",
    "    return results\n",
    "\n",
    "async def search(item: WebSearchItem):\n",
    "    \"\"\" Use the search agent to run a web search for each item in the search plan \"\"\"\n",
    "    input = f\"Search term: {item.query}\\nReason for searching: {item.reason}\"\n",
    "    result = await Runner.run(search_agent, input)\n",
    "    return result.final_output"
   ]
  },
  {
   "cell_type": "code",
   "execution_count": 20,
   "metadata": {},
   "outputs": [],
   "source": [
    "async def write_report(query: str, search_results: list[str]):\n",
    "    \"\"\" Use the writer agent to write a report based on the search results\"\"\"\n",
    "    print(\"Thinking about report...\")\n",
    "    input = f\"Original query: {query}\\nSummarized search results: {search_results}\"\n",
    "    result = await Runner.run(writer_agent, input)\n",
    "    print(\"Finished writing report\")\n",
    "    return result.final_output\n",
    "\n",
    "async def send_email(report: ReportData):\n",
    "    \"\"\" Use the email agent to send an email with the report \"\"\"\n",
    "    print(\"Writing email...\")\n",
    "    result = await Runner.run(email_agent, report.markdown_report)\n",
    "    print(\"Email sent\")\n",
    "    return report"
   ]
  },
  {
   "cell_type": "code",
   "execution_count": null,
   "metadata": {},
   "outputs": [],
   "source": [
    "query =\"Latest AI Agent frameworks in 2025\"\n",
    "\n",
    "with trace(\"Research trace\"):\n",
    "    print(\"Starting research...\")\n",
    "    search_plan = await plan_searches(query)\n",
    "    search_results = await perform_searches(search_plan)\n",
    "    report = await write_report(query, search_results)\n",
    "    await send_email(report)  \n",
    "    print(\"Hooray!\")\n",
    "\n"
   ]
  },
  {
   "cell_type": "code",
   "execution_count": 39,
   "metadata": {},
   "outputs": [],
   "source": [
    "# Create agent to perform the searches\n",
    "search_agent_tool = search_agent.as_tool(tool_name=\"WebSearchTool\", tool_description=\"Perform a single web search based on a query and a reason.\")\n",
    "perform_searches_agent = Agent(\n",
    "    name=\"BatchSearchAgent\",\n",
    "    instructions=(\n",
    "        \"You are a search orchestrator. You receive a WebSearchPlan containing multiple search queries. \"\n",
    "        \"For each item, call WebSearchTool to perform the search. \"\n",
    "        \"Return a list of all results.\"\n",
    "    ),\n",
    "    model=model,\n",
    "    tools=[search_agent_tool]\n",
    ")"
   ]
  },
  {
   "cell_type": "code",
   "execution_count": 40,
   "metadata": {},
   "outputs": [
    {
     "name": "stdout",
     "output_type": "stream",
     "text": [
      "Agent(name='BatchSearchAgent', instructions='You are a search orchestrator. You receive a WebSearchPlan containing multiple search queries. For each item, call WebSearchTool to perform the search. Return a list of all results.', prompt=None, handoff_description=None, handoffs=[], model='gpt-4o-mini', model_settings=ModelSettings(temperature=None, top_p=None, frequency_penalty=None, presence_penalty=None, tool_choice=None, parallel_tool_calls=None, truncation=None, max_tokens=None, reasoning=None, metadata=None, store=None, include_usage=None, extra_query=None, extra_body=None, extra_headers=None, extra_args=None), tools=[FunctionTool(name='WebSearchTool', description='Perform a single web search based on a query and a reason.', params_json_schema={'properties': {'input': {'title': 'Input', 'type': 'string'}}, 'required': ['input'], 'title': 'WebSearchTool_args', 'type': 'object', 'additionalProperties': False}, on_invoke_tool=<function function_tool.<locals>._create_function_tool.<locals>._on_invoke_tool at 0x000002C22B5DDF80>, strict_json_schema=True, is_enabled=True)], mcp_servers=[], mcp_config={}, input_guardrails=[], output_guardrails=[], output_type=None, hooks=None, tool_use_behavior='run_llm_again', reset_tool_choice=True)\n"
     ]
    }
   ],
   "source": [
    "print(perform_searches_agent)"
   ]
  },
  {
   "cell_type": "code",
   "execution_count": 50,
   "metadata": {},
   "outputs": [],
   "source": [
    "planner_agent_tool = planner_agent.as_tool(tool_name=\"SearchPlanTool\", tool_description=\"Plan which searches to perform for a given query\")\n",
    "perform_searches_tool = perform_searches_agent.as_tool(\n",
    "    tool_name=\"BatchWebSearchTool\",\n",
    "    tool_description=\"Perform all searches in a WebSearchPlan by calling WebSearchTool for each query.\"\n",
    ")\n",
    "\n",
    "writer_agent_tool = writer_agent.as_tool(\n",
    "    tool_name=\"ReportWriterTool\",\n",
    "    tool_description=\"Write a summarized report based on search results.\"\n",
    ")\n",
    "\n",
    "email_agent_tool = email_agent.as_tool(\n",
    "    tool_name=\"EmailSenderTool\",\n",
    "    tool_description=\"Send the generated report via email.\"\n",
    ")\n"
   ]
  },
  {
   "cell_type": "code",
   "execution_count": 48,
   "metadata": {},
   "outputs": [],
   "source": [
    "CONTROLLER_INSTRUCTIONS = f\"You conduct research for a given query. \\n\" \\\n",
    "\"1. Use SearchPlanTool to plan searches. \\n\" \\\n",
    "\"2. Use BatchWebSearchTool to execute all searches. \\n\" \\\n",
    "\"3. Summarize the results with ReportWriterTool. \\n\" \\\n",
    "\"4. Send the final report using EmailSenderTool.\"\n",
    "\n",
    "controller_agent = Agent(\n",
    "    name=\"ResearchCoordinator\",\n",
    "    instructions=CONTROLLER_INSTRUCTIONS,\n",
    "    model=model,\n",
    "    tools=[\n",
    "        planner_agent_tool,\n",
    "        perform_searches_tool,\n",
    "        writer_agent_tool,\n",
    "        email_agent_tool\n",
    "    ]\n",
    ")"
   ]
  },
  {
   "cell_type": "code",
   "execution_count": 52,
   "metadata": {},
   "outputs": [
    {
     "name": "stdout",
     "output_type": "stream",
     "text": [
      "Hooray!  I am done.\n"
     ]
    }
   ],
   "source": [
    "query = \"Latest AI Agent frameworks in 2025\"\n",
    "with trace(\"Research Trace\"):\n",
    "    result = await Runner.run(controller_agent, query)\n",
    "    print(\"Hooray!  I am done.\")"
   ]
  },
  {
   "cell_type": "code",
   "execution_count": null,
   "metadata": {},
   "outputs": [],
   "source": [
    "#Now running with stream to print out intermediate states\n",
    "TOOL_LABELS = {\n",
    "    \"SearchPlanTool\": \"Planning searches\",\n",
    "    \"BatchWebSearchTool\": f\"Performing {HOW_MANY_SEARCHES} web searches\",\n",
    "    \"ReportWriterTool\": \"Writing the report\",\n",
    "    \"EmailSenderTool\": \"Sending the report via email\"\n",
    "}\n",
    "\n",
    "\n",
    "query = \"Latest AI Agent frameworks in 2025\"\n",
    "\n",
    "\n",
    "with trace(\"Research Trace\"):\n",
    "    stream =  Runner.run_streamed(controller_agent, query)\n",
    "\n",
    "    async for event in stream.stream_events():\n",
    "        if event.type == \"raw_response_event\":\n",
    "            continue\n",
    "        # When the agent updates, print that\n",
    "        elif event.type == \"agent_updated_stream_event\":\n",
    "            print(f\"Agent updated: {event.new_agent.name}\")\n",
    "            continue\n",
    "        # When items are generated, print them\n",
    "        elif event.type == \"run_item_stream_event\":\n",
    "            if event.item.type == \"tool_call_item\":\n",
    "                tool_name = event.item.raw_item.name\n",
    "                #tool_args = event.item.raw_item.arguments\n",
    "                #call_id = event.item.raw_item.call_id\n",
    "                \n",
    "                print(f\"\\n {TOOL_LABELS.get(tool_name, tool_name)}\")\n",
    "                #print(f\"\\n   Arguments: {tool_args}\")\n",
    "                #print(f\" \\n  Call ID: {call_id}\")\n",
    "            elif event.item.type == \"tool_call_output_item\":\n",
    "                #print(f\"-- Tool output: {event.item.output}\")\n",
    "                continue\n",
    "            elif event.item.type == \"message_output_item\":\n",
    "                #print(f\"-- Message output:\\n {ItemHelpers.text_message_output(event.item)}\")\n",
    "                continue\n",
    "            else:\n",
    "                pass  # Ignore other event types\n",
    "\n",
    "    print(\"n\\nFinal Output:\")\n",
    "    print(stream.final_output)\n",
    "    print(\"=== Run complete ===\")\n",
    "\n",
    "    print(\"Hooray!  I am done.\")"
   ]
  },
  {
   "cell_type": "code",
   "execution_count": null,
   "metadata": {},
   "outputs": [],
   "source": [
    "\n",
    "\n",
    "async def run_research_agent(query, agent):\n",
    "    \"\"\"\n",
    "    Run the research agent with streaming output\n",
    "    \n",
    "    Args:\n",
    "        query (str): The research query\n",
    "        agent: The controller agent to use\n",
    "    \n",
    "    Returns:\n",
    "        The final output from the stream\n",
    "    \"\"\"\n",
    "    stream = Runner.run_streamed(agent, query)\n",
    "\n",
    "    async for event in stream.stream_events():\n",
    "        if event.type == \"raw_response_event\":\n",
    "            continue\n",
    "        # When the agent updates, print that\n",
    "        elif event.type == \"agent_updated_stream_event\":\n",
    "            print(f\"Agent updated: {event.new_agent.name}\")\n",
    "            continue\n",
    "        # When items are generated, print them\n",
    "        elif event.type == \"run_item_stream_event\":\n",
    "            if event.item.type == \"tool_call_item\":\n",
    "                tool_name = event.item.raw_item.name\n",
    "                print(f\"\\n {TOOL_LABELS.get(tool_name, tool_name)}\")\n",
    "                \n",
    "            elif event.item.type == \"tool_call_output_item\":\n",
    "                continue\n",
    "            elif event.item.type == \"message_output_item\":\n",
    "                continue\n",
    "            else:\n",
    "                pass  # Ignore other event types\n",
    "\n",
    "    print(\"\\n\\nFinal Output:\")\n",
    "    #print(stream.final_output)\n",
    "    print(\"=== Run complete ===\")\n",
    "    print(\"Hooray! I am done.\")\n",
    "    \n",
    "    return stream.final_output\n",
    "\n"
   ]
  },
  {
   "cell_type": "code",
   "execution_count": null,
   "metadata": {},
   "outputs": [],
   "source": [
    "query = \"Latest AI Agent frameworks in 2025\"\n",
    "with trace(\"Research Trace\"):\n",
    "    result = await run_research_agent(query, controller_agent)\n",
    "    print(\"Final Result\")\n",
    "    print(result)"
   ]
  },
  {
   "cell_type": "code",
   "execution_count": 83,
   "metadata": {},
   "outputs": [],
   "source": [
    "def run(query: str):\n",
    "    print(f\"query is {query}\")\n",
    "    return \"testing with query: \" + query"
   ]
  },
  {
   "cell_type": "code",
   "execution_count": null,
   "metadata": {},
   "outputs": [],
   "source": [
    "import gradio as gr\n",
    "with gr.Blocks(theme=gr.themes.Default(primary_hue=\"sky\")) as ui:\n",
    "    gr.Markdown(\"# Deep Research\")\n",
    "    query_textbox = gr.Textbox(label=\"What topic would you like to research?\")\n",
    "\n",
    "    with gr.Row():\n",
    "        run_button = gr.Button(\"Run\", variant=\"primary\")\n",
    "        clear_button = gr.Button(\"Clear\", variant=\"secondary\")\n",
    "\n",
    "    report = gr.Markdown(label=\"Report\")\n",
    "    \n",
    "    run_button.click(fn=run, inputs=query_textbox, outputs=report)\n",
    "\n",
    "    clear_button.click(fn=lambda: (\"\", \"\"), inputs=None, outputs=[query_textbox, report])\n",
    "\n",
    "    query_textbox.submit(fn=run, inputs=query_textbox, outputs=report)\n",
    "\n",
    "print(\"Launching Gradio interface...\")\n",
    "ui.launch(inbrowser=True)"
   ]
  },
  {
   "cell_type": "code",
   "execution_count": null,
   "metadata": {},
   "outputs": [],
   "source": []
  }
 ],
 "metadata": {
  "kernelspec": {
   "display_name": ".venv",
   "language": "python",
   "name": "python3"
  },
  "language_info": {
   "codemirror_mode": {
    "name": "ipython",
    "version": 3
   },
   "file_extension": ".py",
   "mimetype": "text/x-python",
   "name": "python",
   "nbconvert_exporter": "python",
   "pygments_lexer": "ipython3",
   "version": "3.12.11"
  }
 },
 "nbformat": 4,
 "nbformat_minor": 2
}

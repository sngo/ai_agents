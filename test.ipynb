{
 "cells": [
  {
   "cell_type": "code",
   "execution_count": 3,
   "metadata": {},
   "outputs": [
    {
     "name": "stdout",
     "output_type": "stream",
     "text": [
      "Requirement already satisfied: email-validator in c:\\users\\sonmn\\projects\\ai_agents_engineer\\ai_agents\\.venv\\lib\\site-packages (2.2.0)\n",
      "Requirement already satisfied: dnspython>=2.0.0 in c:\\users\\sonmn\\projects\\ai_agents_engineer\\ai_agents\\.venv\\lib\\site-packages (from email-validator) (2.7.0)\n",
      "Requirement already satisfied: idna>=2.0.0 in c:\\users\\sonmn\\projects\\ai_agents_engineer\\ai_agents\\.venv\\lib\\site-packages (from email-validator) (3.10)\n",
      "Note: you may need to restart the kernel to use updated packages.\n"
     ]
    },
    {
     "name": "stderr",
     "output_type": "stream",
     "text": [
      "\n",
      "[notice] A new release of pip is available: 25.0.1 -> 25.2\n",
      "[notice] To update, run: python.exe -m pip install --upgrade pip\n"
     ]
    }
   ],
   "source": [
    "%pip install email-validator"
   ]
  },
  {
   "cell_type": "code",
   "execution_count": null,
   "metadata": {},
   "outputs": [
    {
     "ename": "",
     "evalue": "",
     "output_type": "error",
     "traceback": [
      "\u001b[1;31mRunning cells with '.venv (Python 3.11.13)' requires the ipykernel package.\n",
      "\u001b[1;31mInstall 'ipykernel' into the Python environment. \n",
      "\u001b[1;31mCommand: 'c:/Users/sonmn/projects/ai_agents_engineer/ai_agents/.venv/Scripts/python.exe -m pip install ipykernel -U --force-reinstall'"
     ]
    }
   ],
   "source": [
    "from pydantic import BaseModel, EmailStr\n",
    "from datetime import datetime\n",
    "\n",
    "class User(BaseModel):\n",
    "    id: int\n",
    "    name: str\n",
    "    email: EmailStr\n",
    "    signup_date: datetime\n",
    "\n",
    "# Validate and parse data\n",
    "user = User(\n",
    "    id=\"123\",  # gets auto-converted to int\n",
    "    name=\"John Doe\",\n",
    "    email=\"john@abc.com\",\n",
    "    signup_date=\"2025-07-29 10:00:00\"\n",
    ")\n",
    "\n",
    "print(user.id)           # 123 (int)\n",
    "print(user.signup_date)  # datetime object\n",
    "print(user.model_dump())       # Convert back to dictionary"
   ]
  },
  {
   "cell_type": "code",
   "execution_count": null,
   "metadata": {},
   "outputs": [],
   "source": []
  }
 ],
 "metadata": {
  "kernelspec": {
   "display_name": ".venv",
   "language": "python",
   "name": "python3"
  },
  "language_info": {
   "codemirror_mode": {
    "name": "ipython",
    "version": 3
   },
   "file_extension": ".py",
   "mimetype": "text/x-python",
   "name": "python",
   "nbconvert_exporter": "python",
   "pygments_lexer": "ipython3",
   "version": "3.11.13"
  }
 },
 "nbformat": 4,
 "nbformat_minor": 2
}
